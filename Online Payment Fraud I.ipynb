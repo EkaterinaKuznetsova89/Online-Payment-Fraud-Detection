{
 "cells": [
  {
   "cell_type": "markdown",
   "id": "5a04291f",
   "metadata": {},
   "source": [
    "# **Online Payments Fraud Detection**"
   ]
  },
  {
   "cell_type": "markdown",
   "id": "7d581c02",
   "metadata": {},
   "source": [
    "The project focuses on detecting fraudulent paymnets using machine learning techniques. It involves end-to-end steps from data exploration and preprocessing to model development and evaluation. The final goal is to build a reliable fraud detection model that can distinguish between legitimate and fraudulent transactions."
   ]
  },
  {
   "cell_type": "markdown",
   "id": "ab58aea1",
   "metadata": {},
   "source": [
    "- **step**: represents a unit of time where 1 step equals 1 hour\n",
    "- **type**: type of online transaction\n",
    "- **amount**: the amount of the transaction\n",
    "- **nameOrig**: customer starting the transaction\n",
    "- **oldbalanceOrg**: balance before the transaction\n",
    "- **newbalanceOrig**: balance after the transaction\n",
    "- **nameDest**: recipient of the transaction\n",
    "- **oldbalanceDest**: initial balance of recipient before the transaction\n",
    "- **newbalanceDest**: the new balance of recipient after the transaction\n",
    "- **isFraud**: fraud transaction"
   ]
  },
  {
   "cell_type": "code",
   "execution_count": 15,
   "id": "b467dfd7",
   "metadata": {},
   "outputs": [],
   "source": [
    "import pandas as pd\n",
    "import numpy as np\n",
    "import seaborn as sns\n",
    "import matplotlib.pyplot as plt"
   ]
  },
  {
   "cell_type": "markdown",
   "id": "03d75423",
   "metadata": {},
   "source": [
    "**Data Loading** "
   ]
  },
  {
   "cell_type": "code",
   "execution_count": 16,
   "id": "f3239228",
   "metadata": {},
   "outputs": [],
   "source": [
    "data = pd.read_csv(r\"C:\\Users\\Gebruiker\\Desktop\\IronHack\\Projects\\Online Payments Fraud Detection\\archive\\PS_20174392719_1491204439457_log.csv\")"
   ]
  },
  {
   "cell_type": "markdown",
   "id": "4a467601",
   "metadata": {},
   "source": [
    "Making a copy as the best practice"
   ]
  },
  {
   "cell_type": "code",
   "execution_count": 17,
   "id": "15086563",
   "metadata": {},
   "outputs": [],
   "source": [
    "df = data.copy()\n",
    "# we can always recover the orginal data by re-runing this cell without the need to reload the data from the file."
   ]
  },
  {
   "cell_type": "markdown",
   "id": "72a593ce",
   "metadata": {},
   "source": [
    "**Understaning the data**"
   ]
  },
  {
   "cell_type": "code",
   "execution_count": 18,
   "id": "2cebe793",
   "metadata": {},
   "outputs": [
    {
     "data": {
      "text/html": [
       "<div>\n",
       "<style scoped>\n",
       "    .dataframe tbody tr th:only-of-type {\n",
       "        vertical-align: middle;\n",
       "    }\n",
       "\n",
       "    .dataframe tbody tr th {\n",
       "        vertical-align: top;\n",
       "    }\n",
       "\n",
       "    .dataframe thead th {\n",
       "        text-align: right;\n",
       "    }\n",
       "</style>\n",
       "<table border=\"1\" class=\"dataframe\">\n",
       "  <thead>\n",
       "    <tr style=\"text-align: right;\">\n",
       "      <th></th>\n",
       "      <th>step</th>\n",
       "      <th>type</th>\n",
       "      <th>amount</th>\n",
       "      <th>nameOrig</th>\n",
       "      <th>oldbalanceOrg</th>\n",
       "      <th>newbalanceOrig</th>\n",
       "      <th>nameDest</th>\n",
       "      <th>oldbalanceDest</th>\n",
       "      <th>newbalanceDest</th>\n",
       "      <th>isFraud</th>\n",
       "      <th>isFlaggedFraud</th>\n",
       "    </tr>\n",
       "  </thead>\n",
       "  <tbody>\n",
       "    <tr>\n",
       "      <th>0</th>\n",
       "      <td>1</td>\n",
       "      <td>PAYMENT</td>\n",
       "      <td>9839.64</td>\n",
       "      <td>C1231006815</td>\n",
       "      <td>170136.00</td>\n",
       "      <td>160296.36</td>\n",
       "      <td>M1979787155</td>\n",
       "      <td>0.0</td>\n",
       "      <td>0.00</td>\n",
       "      <td>0</td>\n",
       "      <td>0</td>\n",
       "    </tr>\n",
       "    <tr>\n",
       "      <th>1</th>\n",
       "      <td>1</td>\n",
       "      <td>PAYMENT</td>\n",
       "      <td>1864.28</td>\n",
       "      <td>C1666544295</td>\n",
       "      <td>21249.00</td>\n",
       "      <td>19384.72</td>\n",
       "      <td>M2044282225</td>\n",
       "      <td>0.0</td>\n",
       "      <td>0.00</td>\n",
       "      <td>0</td>\n",
       "      <td>0</td>\n",
       "    </tr>\n",
       "    <tr>\n",
       "      <th>2</th>\n",
       "      <td>1</td>\n",
       "      <td>TRANSFER</td>\n",
       "      <td>181.00</td>\n",
       "      <td>C1305486145</td>\n",
       "      <td>181.00</td>\n",
       "      <td>0.00</td>\n",
       "      <td>C553264065</td>\n",
       "      <td>0.0</td>\n",
       "      <td>0.00</td>\n",
       "      <td>1</td>\n",
       "      <td>0</td>\n",
       "    </tr>\n",
       "    <tr>\n",
       "      <th>3</th>\n",
       "      <td>1</td>\n",
       "      <td>CASH_OUT</td>\n",
       "      <td>181.00</td>\n",
       "      <td>C840083671</td>\n",
       "      <td>181.00</td>\n",
       "      <td>0.00</td>\n",
       "      <td>C38997010</td>\n",
       "      <td>21182.0</td>\n",
       "      <td>0.00</td>\n",
       "      <td>1</td>\n",
       "      <td>0</td>\n",
       "    </tr>\n",
       "    <tr>\n",
       "      <th>4</th>\n",
       "      <td>1</td>\n",
       "      <td>PAYMENT</td>\n",
       "      <td>11668.14</td>\n",
       "      <td>C2048537720</td>\n",
       "      <td>41554.00</td>\n",
       "      <td>29885.86</td>\n",
       "      <td>M1230701703</td>\n",
       "      <td>0.0</td>\n",
       "      <td>0.00</td>\n",
       "      <td>0</td>\n",
       "      <td>0</td>\n",
       "    </tr>\n",
       "    <tr>\n",
       "      <th>5</th>\n",
       "      <td>1</td>\n",
       "      <td>PAYMENT</td>\n",
       "      <td>7817.71</td>\n",
       "      <td>C90045638</td>\n",
       "      <td>53860.00</td>\n",
       "      <td>46042.29</td>\n",
       "      <td>M573487274</td>\n",
       "      <td>0.0</td>\n",
       "      <td>0.00</td>\n",
       "      <td>0</td>\n",
       "      <td>0</td>\n",
       "    </tr>\n",
       "    <tr>\n",
       "      <th>6</th>\n",
       "      <td>1</td>\n",
       "      <td>PAYMENT</td>\n",
       "      <td>7107.77</td>\n",
       "      <td>C154988899</td>\n",
       "      <td>183195.00</td>\n",
       "      <td>176087.23</td>\n",
       "      <td>M408069119</td>\n",
       "      <td>0.0</td>\n",
       "      <td>0.00</td>\n",
       "      <td>0</td>\n",
       "      <td>0</td>\n",
       "    </tr>\n",
       "    <tr>\n",
       "      <th>7</th>\n",
       "      <td>1</td>\n",
       "      <td>PAYMENT</td>\n",
       "      <td>7861.64</td>\n",
       "      <td>C1912850431</td>\n",
       "      <td>176087.23</td>\n",
       "      <td>168225.59</td>\n",
       "      <td>M633326333</td>\n",
       "      <td>0.0</td>\n",
       "      <td>0.00</td>\n",
       "      <td>0</td>\n",
       "      <td>0</td>\n",
       "    </tr>\n",
       "    <tr>\n",
       "      <th>8</th>\n",
       "      <td>1</td>\n",
       "      <td>PAYMENT</td>\n",
       "      <td>4024.36</td>\n",
       "      <td>C1265012928</td>\n",
       "      <td>2671.00</td>\n",
       "      <td>0.00</td>\n",
       "      <td>M1176932104</td>\n",
       "      <td>0.0</td>\n",
       "      <td>0.00</td>\n",
       "      <td>0</td>\n",
       "      <td>0</td>\n",
       "    </tr>\n",
       "    <tr>\n",
       "      <th>9</th>\n",
       "      <td>1</td>\n",
       "      <td>DEBIT</td>\n",
       "      <td>5337.77</td>\n",
       "      <td>C712410124</td>\n",
       "      <td>41720.00</td>\n",
       "      <td>36382.23</td>\n",
       "      <td>C195600860</td>\n",
       "      <td>41898.0</td>\n",
       "      <td>40348.79</td>\n",
       "      <td>0</td>\n",
       "      <td>0</td>\n",
       "    </tr>\n",
       "  </tbody>\n",
       "</table>\n",
       "</div>"
      ],
      "text/plain": [
       "   step      type    amount     nameOrig  oldbalanceOrg  newbalanceOrig  \\\n",
       "0     1   PAYMENT   9839.64  C1231006815      170136.00       160296.36   \n",
       "1     1   PAYMENT   1864.28  C1666544295       21249.00        19384.72   \n",
       "2     1  TRANSFER    181.00  C1305486145         181.00            0.00   \n",
       "3     1  CASH_OUT    181.00   C840083671         181.00            0.00   \n",
       "4     1   PAYMENT  11668.14  C2048537720       41554.00        29885.86   \n",
       "5     1   PAYMENT   7817.71    C90045638       53860.00        46042.29   \n",
       "6     1   PAYMENT   7107.77   C154988899      183195.00       176087.23   \n",
       "7     1   PAYMENT   7861.64  C1912850431      176087.23       168225.59   \n",
       "8     1   PAYMENT   4024.36  C1265012928        2671.00            0.00   \n",
       "9     1     DEBIT   5337.77   C712410124       41720.00        36382.23   \n",
       "\n",
       "      nameDest  oldbalanceDest  newbalanceDest  isFraud  isFlaggedFraud  \n",
       "0  M1979787155             0.0            0.00        0               0  \n",
       "1  M2044282225             0.0            0.00        0               0  \n",
       "2   C553264065             0.0            0.00        1               0  \n",
       "3    C38997010         21182.0            0.00        1               0  \n",
       "4  M1230701703             0.0            0.00        0               0  \n",
       "5   M573487274             0.0            0.00        0               0  \n",
       "6   M408069119             0.0            0.00        0               0  \n",
       "7   M633326333             0.0            0.00        0               0  \n",
       "8  M1176932104             0.0            0.00        0               0  \n",
       "9   C195600860         41898.0        40348.79        0               0  "
      ]
     },
     "execution_count": 18,
     "metadata": {},
     "output_type": "execute_result"
    }
   ],
   "source": [
    "df.head(10)"
   ]
  },
  {
   "cell_type": "code",
   "execution_count": 19,
   "id": "4e3932ee",
   "metadata": {},
   "outputs": [
    {
     "data": {
      "text/plain": [
       "(6362620, 11)"
      ]
     },
     "execution_count": 19,
     "metadata": {},
     "output_type": "execute_result"
    }
   ],
   "source": [
    "df.shape"
   ]
  },
  {
   "cell_type": "code",
   "execution_count": 20,
   "id": "57c21c0d",
   "metadata": {},
   "outputs": [
    {
     "data": {
      "text/plain": [
       "step              0\n",
       "type              0\n",
       "amount            0\n",
       "nameOrig          0\n",
       "oldbalanceOrg     0\n",
       "newbalanceOrig    0\n",
       "nameDest          0\n",
       "oldbalanceDest    0\n",
       "newbalanceDest    0\n",
       "isFraud           0\n",
       "isFlaggedFraud    0\n",
       "dtype: int64"
      ]
     },
     "execution_count": 20,
     "metadata": {},
     "output_type": "execute_result"
    }
   ],
   "source": [
    "#check missing values\n",
    "df.isnull().sum()"
   ]
  },
  {
   "cell_type": "code",
   "execution_count": 119,
   "id": "a8cfdf40",
   "metadata": {},
   "outputs": [
    {
     "data": {
      "text/plain": [
       "np.int64(0)"
      ]
     },
     "execution_count": 119,
     "metadata": {},
     "output_type": "execute_result"
    }
   ],
   "source": [
    "#checking for duplicates\n",
    "df.duplicated().sum()"
   ]
  },
  {
   "cell_type": "markdown",
   "id": "7bc1af2f",
   "metadata": {},
   "source": [
    "Checking data types"
   ]
  },
  {
   "cell_type": "code",
   "execution_count": 21,
   "id": "d0a8c398",
   "metadata": {},
   "outputs": [
    {
     "name": "stdout",
     "output_type": "stream",
     "text": [
      "<class 'pandas.core.frame.DataFrame'>\n",
      "RangeIndex: 6362620 entries, 0 to 6362619\n",
      "Data columns (total 11 columns):\n",
      " #   Column          Dtype  \n",
      "---  ------          -----  \n",
      " 0   step            int64  \n",
      " 1   type            object \n",
      " 2   amount          float64\n",
      " 3   nameOrig        object \n",
      " 4   oldbalanceOrg   float64\n",
      " 5   newbalanceOrig  float64\n",
      " 6   nameDest        object \n",
      " 7   oldbalanceDest  float64\n",
      " 8   newbalanceDest  float64\n",
      " 9   isFraud         int64  \n",
      " 10  isFlaggedFraud  int64  \n",
      "dtypes: float64(5), int64(3), object(3)\n",
      "memory usage: 534.0+ MB\n"
     ]
    }
   ],
   "source": [
    "df.info()"
   ]
  },
  {
   "cell_type": "markdown",
   "id": "d73f18b6",
   "metadata": {},
   "source": [
    "Observation  - check each type, change what is needed "
   ]
  },
  {
   "cell_type": "code",
   "execution_count": 22,
   "id": "3a1dfe46",
   "metadata": {},
   "outputs": [
    {
     "data": {
      "text/plain": [
       "743"
      ]
     },
     "execution_count": 22,
     "metadata": {},
     "output_type": "execute_result"
    }
   ],
   "source": [
    "df['step'].nunique()\n",
    "# the point was to check if \"step\" is a categorical variable, but it is not.\n",
    "# it is okay to keep it as a numerical variable"
   ]
  },
  {
   "cell_type": "code",
   "execution_count": 122,
   "id": "d6eb1132",
   "metadata": {},
   "outputs": [
    {
     "data": {
      "text/plain": [
       "5"
      ]
     },
     "execution_count": 122,
     "metadata": {},
     "output_type": "execute_result"
    }
   ],
   "source": [
    "df['type'].nunique()\n",
    "# it is a categorical variable"
   ]
  },
  {
   "cell_type": "code",
   "execution_count": 123,
   "id": "2608e78d",
   "metadata": {},
   "outputs": [
    {
     "data": {
      "text/plain": [
       "6353307"
      ]
     },
     "execution_count": 123,
     "metadata": {},
     "output_type": "execute_result"
    }
   ],
   "source": [
    "df['nameOrig'].nunique()\n",
    "# It has too many unique values, this variable is a categorical variable but it is going to be used in analysis but won't be used in modeling"
   ]
  },
  {
   "cell_type": "code",
   "execution_count": 124,
   "id": "0e2fcf8b",
   "metadata": {},
   "outputs": [
    {
     "data": {
      "text/plain": [
       "2722362"
      ]
     },
     "execution_count": 124,
     "metadata": {},
     "output_type": "execute_result"
    }
   ],
   "source": [
    "df['nameDest'].nunique()"
   ]
  },
  {
   "cell_type": "markdown",
   "id": "c3f1890b",
   "metadata": {},
   "source": [
    "<h3 style=>-- Univariate analysis --</h3>"
   ]
  },
  {
   "cell_type": "markdown",
   "id": "bbebf2f8",
   "metadata": {},
   "source": [
    "* Categorical variables: step, type, nameOrig, nameDest, isFraud, isFlaggedFraud  \n",
    "* Numerical variables: amount, oldbalanceOrg, newbalanceOrig, oldbalanceDest, newbalanceDest"
   ]
  },
  {
   "cell_type": "code",
   "execution_count": 23,
   "id": "1f0e9b50",
   "metadata": {},
   "outputs": [],
   "source": [
    "cat_var = ['type', 'isFraud']"
   ]
  },
  {
   "cell_type": "code",
   "execution_count": 24,
   "id": "76856e33",
   "metadata": {},
   "outputs": [],
   "source": [
    "num_var = ['amount', 'oldbalanceOrg', 'newbalanceOrig', 'oldbalanceDest', 'newbalanceDest']"
   ]
  },
  {
   "cell_type": "code",
   "execution_count": 25,
   "id": "7c7b624c",
   "metadata": {},
   "outputs": [],
   "source": [
    "num = df[num_var] #this is the subset"
   ]
  },
  {
   "cell_type": "code",
   "execution_count": 26,
   "id": "6328751e",
   "metadata": {},
   "outputs": [],
   "source": [
    "cat = df[cat_var]"
   ]
  },
  {
   "cell_type": "code",
   "execution_count": 129,
   "id": "0cf93943",
   "metadata": {},
   "outputs": [
    {
     "data": {
      "image/png": "[encoded data removed]",
      "text/plain": [
       "<Figure size 2000x1600 with 25 Axes>"
      ]
     },
     "metadata": {},
     "output_type": "display_data"
    }
   ],
   "source": [
    "# Plot numerical variables\n",
    "\n",
    "# Grid size\n",
    "nrows, ncols = 5, 5  # Adjust based on how many variables you want to show\n",
    "fig, axes = plt.subplots(nrows=nrows, ncols=ncols, figsize=(20, 16))\n",
    "axes = axes.flatten()\n",
    "# Plot each numerical feature\n",
    "for i, ax in enumerate(axes):\n",
    "    if i >= len(num.columns):\n",
    "        ax.set_visible(False)  # Hide unused plots\n",
    "        continue\n",
    "    ax.hist(num.iloc[:, i], bins=30, edgecolor='black')\n",
    "    ax.set_title(num.columns[i])\n",
    "plt.tight_layout()\n",
    "plt.show()\n"
   ]
  },
  {
   "cell_type": "code",
   "execution_count": 130,
   "id": "e4b4687a",
   "metadata": {},
   "outputs": [
    {
     "name": "stdout",
     "output_type": "stream",
     "text": [
      "\n",
      "Class distribution:\n",
      "isFraud\n",
      "0    6354407\n",
      "1       8213\n",
      "Name: count, dtype: int64\n",
      "isFraud\n",
      "0    99.870918\n",
      "1     0.129082\n",
      "Name: proportion, dtype: float64\n"
     ]
    },
    {
     "data": {
      "image/png": "[encoded data removed]",
      "text/plain": [
       "<Figure size 640x480 with 1 Axes>"
      ]
     },
     "metadata": {},
     "output_type": "display_data"
    }
   ],
   "source": [
    "import matplotlib.pyplot as plt\n",
    "\n",
    "# Value counts and percentage\n",
    "print(\"\\nClass distribution:\")\n",
    "print(df['isFraud'].value_counts())\n",
    "print(df['isFraud'].value_counts(normalize=True) * 100)\n",
    "\n",
    "# Bar plot\n",
    "df['isFraud'].value_counts().plot(kind='bar', title='Fraud vs Non-Fraud', rot=0)\n",
    "plt.xticks(ticks=[0,1], labels=['Not Fraud', 'Fraud'], rotation=0)\n",
    "plt.ylabel('Count')\n",
    "plt.show()\n"
   ]
  },
  {
   "cell_type": "markdown",
   "id": "10441508",
   "metadata": {},
   "source": [
    "* 99.87% of the transactions are not fraud\n",
    "* 0.13% of the transactions are fraud"
   ]
  },
  {
   "cell_type": "code",
   "execution_count": 131,
   "id": "5dc9d1c8",
   "metadata": {},
   "outputs": [
    {
     "name": "stdout",
     "output_type": "stream",
     "text": [
      "Unique values in 'isFlaggedFraud': [0 1]\n"
     ]
    }
   ],
   "source": [
    "print(\"Unique values in 'isFlaggedFraud':\", df['isFlaggedFraud'].unique())"
   ]
  },
  {
   "cell_type": "code",
   "execution_count": 132,
   "id": "0acbb945",
   "metadata": {},
   "outputs": [
    {
     "name": "stdout",
     "output_type": "stream",
     "text": [
      "Number of rows with isFlaggedFraud > 0: 16\n",
      "         isFlaggedFraud\n",
      "2736446               1\n",
      "3247297               1\n",
      "3760288               1\n",
      "5563713               1\n",
      "5996407               1\n",
      "5996409               1\n",
      "6168499               1\n",
      "6205439               1\n",
      "6266413               1\n",
      "6281482               1\n",
      "6281484               1\n",
      "6296014               1\n",
      "6351225               1\n",
      "6362460               1\n",
      "6362462               1\n",
      "6362584               1\n"
     ]
    }
   ],
   "source": [
    "flagged_rows = df[df['isFlaggedFraud'] > 0]  # Filter rows where value is greater than 0\n",
    "print(\"Number of rows with isFlaggedFraud > 0:\", len(flagged_rows))\n",
    "print(flagged_rows[['isFlaggedFraud']])  # Print only the 'isFlaggedFraud' column for these rows\n"
   ]
  },
  {
   "cell_type": "code",
   "execution_count": 133,
   "id": "2f4617b8",
   "metadata": {},
   "outputs": [
    {
     "name": "stdout",
     "output_type": "stream",
     "text": [
      "Missed frauds (not flagged): 8197\n",
      "Total frauds in dataset: 8213\n",
      "Percentage of frauds missed by flag: 99.81%\n"
     ]
    }
   ],
   "source": [
    "# Filter missed frauds\n",
    "missed_frauds = df[(df['isFraud'] == 1) & (df['isFlaggedFraud'] == 0)]\n",
    "\n",
    "# Total missed frauds\n",
    "print(f\"Missed frauds (not flagged): {len(missed_frauds)}\")\n",
    "\n",
    "# Optional: compare with total frauds\n",
    "total_frauds = df[df['isFraud'] == 1]\n",
    "print(f\"Total frauds in dataset: {len(total_frauds)}\")\n",
    "\n",
    "# Percent missed\n",
    "percent_missed = (len(missed_frauds) / len(total_frauds)) * 100\n",
    "print(f\"Percentage of frauds missed by flag: {percent_missed:.2f}%\")\n"
   ]
  },
  {
   "cell_type": "markdown",
   "id": "d2db52c3",
   "metadata": {},
   "source": [
    "* The flag missed 99.81% of fraud. The model that will be build will try to detect higher %"
   ]
  },
  {
   "cell_type": "code",
   "execution_count": 134,
   "id": "60fcc17b",
   "metadata": {},
   "outputs": [
    {
     "name": "stdout",
     "output_type": "stream",
     "text": [
      "type\n",
      "CASH_OUT    2237500\n",
      "PAYMENT     2151495\n",
      "CASH_IN     1399284\n",
      "TRANSFER     532909\n",
      "DEBIT         41432\n",
      "Name: count, dtype: int64\n"
     ]
    }
   ],
   "source": [
    "#  Show unique values and their count\n",
    "value_counts = df['type'].value_counts()\n",
    "print(value_counts)"
   ]
  },
  {
   "cell_type": "code",
   "execution_count": 135,
   "id": "61850bc6",
   "metadata": {},
   "outputs": [
    {
     "data": {
      "image/png": "[encoded data removed]",
      "text/plain": [
       "<Figure size 800x500 with 1 Axes>"
      ]
     },
     "metadata": {},
     "output_type": "display_data"
    }
   ],
   "source": [
    "# Group by transaction type and sum the amount\n",
    "amount_by_type = df.groupby(\"type\")[\"amount\"].sum().sort_values(ascending=False).reset_index()\n",
    "\n",
    "# Plot\n",
    "plt.figure(figsize=(8, 5))\n",
    "sns.barplot(data=amount_by_type, x=\"type\", y=\"amount\")\n",
    "plt.title(\"Total Transaction Amount by Type\")\n",
    "plt.ylabel(\"Total Amount\")\n",
    "plt.xlabel(\"Transaction Type\")\n",
    "plt.xticks(rotation=45)\n",
    "plt.tight_layout()\n",
    "plt.show()"
   ]
  },
  {
   "cell_type": "markdown",
   "id": "ec6735a9",
   "metadata": {},
   "source": [
    "<h3 style=>-- Bivariate analysis --</h3>"
   ]
  },
  {
   "cell_type": "markdown",
   "id": "3d323f42",
   "metadata": {},
   "source": [
    "* Categorical variables: step, type, nameOrig, nameDest, isFraud, isFlaggedFraud  \n",
    "* Numerical variables: amount, oldbalanceOrg, newbalanceOrig, oldbalanceDest, newbalanceDest"
   ]
  },
  {
   "cell_type": "code",
   "execution_count": 136,
   "id": "484a2778",
   "metadata": {},
   "outputs": [
    {
     "data": {
      "image/png": "[encoded data removed]",
      "text/plain": [
       "<Figure size 1800x500 with 3 Axes>"
      ]
     },
     "metadata": {},
     "output_type": "display_data"
    }
   ],
   "source": [
    "# Map fraud labels to more descriptive text\n",
    "df['isFraud'] = df['isFraud'].map({0: 'Non-Fraud (0)', 1: 'Fraud (1)'})\n",
    "\n",
    "# Set up subplots\n",
    "fig, axes = plt.subplots(1, 3, figsize=(18, 5))\n",
    "\n",
    "# Plot 1: Class Distribution\n",
    "sns.countplot(x='isFraud', data=df, ax=axes[0])\n",
    "axes[0].set_title('Fraud vs Non-Fraud')\n",
    "axes[0].set_xlabel('Transaction Class')\n",
    "axes[0].set_ylabel('Count')\n",
    "\n",
    "# Plot 2: Transaction Amount by Fraud\n",
    "sns.boxplot(x='isFraud', y='amount', data=df, ax=axes[1])\n",
    "axes[1].set_yscale('log')  # log scale to manage outliers\n",
    "axes[1].set_title('Transaction Amount by Fraud')\n",
    "axes[1].set_xlabel('Transaction Class')\n",
    "axes[1].set_ylabel('Amount (log scale)')\n",
    "\n",
    "# Plot 3: Transaction Type by Fraud\n",
    "sns.countplot(x='type', hue='isFraud', data=df, ax=axes[2])\n",
    "axes[2].set_title('Transaction Type by Fraud')\n",
    "axes[2].set_xlabel('Transaction Type')\n",
    "axes[2].set_ylabel('Count')\n",
    "axes[2].tick_params(axis='x', rotation=45)\n",
    "\n",
    "plt.tight_layout()\n",
    "plt.show()"
   ]
  },
  {
   "cell_type": "markdown",
   "id": "8a20c033",
   "metadata": {},
   "source": [
    "- 1st plot: the dataset is highly imbalanced with a significant majority of non-fraudulent transactions -> the focus should be in precision, recall, F1, ROC AUC\n",
    "- 2nd plot: log scale is used because transaction amounts often vary wildly, fraud is more likely with larger transfer amounts\n",
    "- 3rd plot: for each transaction, the plot shows how many were fraud vs. non-fraud -> fraud is more comon in \"transfer\" and \"cash_out\" transactions"
   ]
  },
  {
   "cell_type": "code",
   "execution_count": 137,
   "id": "2fa3baeb",
   "metadata": {},
   "outputs": [],
   "source": [
    "# slit the dataset into fraud and non-fraud transactions\n",
    "fraud = df[df['isFraud'] == 1]\n",
    "non_fraud = df[df['isFraud'] == 0]"
   ]
  },
  {
   "cell_type": "code",
   "execution_count": 138,
   "id": "934b50cf",
   "metadata": {},
   "outputs": [
    {
     "data": {
      "text/plain": [
       "<Axes: xlabel='isFraud', ylabel='amount'>"
      ]
     },
     "execution_count": 138,
     "metadata": {},
     "output_type": "execute_result"
    },
    {
     "data": {
      "image/png": "[encoded data removed]",
      "text/plain": [
       "<Figure size 640x480 with 1 Axes>"
      ]
     },
     "metadata": {},
     "output_type": "display_data"
    }
   ],
   "source": [
    "sns.boxplot(x='isFraud', y='amount', data=df)"
   ]
  },
  {
   "cell_type": "markdown",
   "id": "16d139b4",
   "metadata": {},
   "source": [
    "* non-faud has more outliers\n",
    "* fraud has higher amounts"
   ]
  },
  {
   "cell_type": "markdown",
   "id": "df553842",
   "metadata": {},
   "source": [
    "* - oldbalanceOrg: balance of sender before transaction\n",
    "* - newbalanceOrig: balance of sender after transaction\n",
    "* - oldbalanceDest: balance of receiver before\n",
    "* - newbalanceDest: balance of receiver after"
   ]
  },
  {
   "cell_type": "code",
   "execution_count": null,
   "id": "be2edc99",
   "metadata": {},
   "outputs": [],
   "source": []
  },
  {
   "cell_type": "markdown",
   "id": "d587a90c",
   "metadata": {},
   "source": [
    "* The origin account (sender) should have money taken out.\n",
    "* The destination account (receiver) should have money added.\n",
    "- In normal transactions:\n",
    "* deltaOrigin ≈ amount sent\n",
    "* deltaDest ≈ amount received\n",
    "* In fraud, that relationship might be inconsistent, exaggerated, or zero (no real money moved)."
   ]
  },
  {
   "cell_type": "code",
   "execution_count": 140,
   "id": "38a03258",
   "metadata": {},
   "outputs": [
    {
     "data": {
      "text/plain": [
       "<Axes: xlabel='isFraud', ylabel='deltaOrigin'>"
      ]
     },
     "execution_count": 140,
     "metadata": {},
     "output_type": "execute_result"
    },
    {
     "data": {
      "image/png": "[encoded data removed]",
      "text/plain": [
       "<Figure size 640x480 with 1 Axes>"
      ]
     },
     "metadata": {},
     "output_type": "display_data"
    }
   ],
   "source": [
    "# balance changes\n",
    "df['deltaOrigin'] = df['oldbalanceOrg'] - df['newbalanceOrig']  #  how much money left the sender’s account\n",
    "df['deltaDest'] = df['newbalanceDest'] - df['oldbalanceDest']   # how much money was added to the receiver’s account\n",
    "\n",
    "# plot balance changes\n",
    "sns.boxplot(x='isFraud', y='deltaOrigin', data=df)"
   ]
  },
  {
   "cell_type": "markdown",
   "id": "dba50a27",
   "metadata": {},
   "source": [
    "- most normal transactions don’t significantly change the sender’s balance.\n",
    "\n",
    "These might include:\n",
    "* Small value transactions\n",
    "* Reversed or cancelled payments\n",
    "* Transfers between owned accounts\n",
    "* Outliers on both sides (positive & negative): suggest normal users sometimes send or receive larger values, but it’s not common.\n",
    "\n",
    "- Fraud Median is Above 0 and Always Positive\n",
    "\n",
    "* It means: In fraud transactions: oldbalanceOrg - newbalanceOrig > 0, meaning money is removed from the sender’s account.\n",
    "- This makes sense for fraudulent TRANSFER or CASH_OUT, where attackers move funds out of a victim’s account.\n",
    "* All values in positive deltaOrigin:\n",
    "- Fraud usually causes an actual decrease in the origin balance — no refunds, no balance reset.\n",
    "\n",
    "* Fraud Outliers Are Much Higher Than Non-Fraud - Fraudsters often move large amounts of money — trying to extract maximum value before detection.\n",
    "* This creates long tails in the plot — far larger deltaOrigin than what’s seen in normal activity."
   ]
  },
  {
   "cell_type": "code",
   "execution_count": 142,
   "id": "6d78e231",
   "metadata": {},
   "outputs": [
    {
     "name": "stderr",
     "output_type": "stream",
     "text": [
      "c:\\Users\\Gebruiker\\anaconda3\\envs\\myenv\\lib\\site-packages\\pandas\\core\\arraylike.py:399: RuntimeWarning: invalid value encountered in log1p\n",
      "  result = getattr(ufunc, method)(*inputs, **kwargs)\n"
     ]
    },
    {
     "data": {
      "text/plain": [
       "<Axes: xlabel='isFraud', ylabel='deltaOrigin'>"
      ]
     },
     "execution_count": 142,
     "metadata": {},
     "output_type": "execute_result"
    },
    {
     "data": {
      "image/png": "[encoded data removed]",
      "text/plain": [
       "<Figure size 640x480 with 1 Axes>"
      ]
     },
     "metadata": {},
     "output_type": "display_data"
    }
   ],
   "source": [
    "df['high_delta_origin'] = df['deltaOrigin'] > 1_000_000  # or any threshold based on distribution\n",
    "df['deltaOrigin_to_amount'] = df['deltaOrigin'] / (df['amount'] + 1)\n",
    "\n",
    "sns.boxplot(x='isFraud', y=np.log1p(df['deltaOrigin']), data=df)\n",
    "\n",
    "#it shows in fraud that most of the trasations are quite high\n",
    "#fraud usually involves larger balance deductions\n"
   ]
  },
  {
   "cell_type": "code",
   "execution_count": null,
   "id": "94ec9df4",
   "metadata": {},
   "outputs": [
    {
     "name": "stdout",
     "output_type": "stream",
     "text": [
      "\n",
      "Fraud vs Transaction Type:\n",
      "isFraud   Fraud (1)  Non-Fraud (0)\n",
      "type                              \n",
      "CASH_IN           0        1399284\n",
      "CASH_OUT       4116        2233384\n",
      "DEBIT             0          41432\n",
      "PAYMENT           0        2151495\n",
      "TRANSFER       4097         528812\n"
     ]
    }
   ],
   "source": [
    "# fraud count per transaction type\n",
    "fraud_per_type = pd.crosstab(df['type'], df['isFraud'])\n",
    "print(\"\\nFraud vs Transaction Type:\")\n",
    "print(fraud_per_type)"
   ]
  },
  {
   "cell_type": "code",
   "execution_count": null,
   "id": "dce41c58",
   "metadata": {},
   "outputs": [
    {
     "data": {
      "image/png": "[encoded data removed]",
      "text/plain": [
       "<Figure size 600x600 with 1 Axes>"
      ]
     },
     "metadata": {},
     "output_type": "display_data"
    }
   ],
   "source": [
    "# categorical plot\n",
    "\n",
    "fraud_counts = pd.Series({\n",
    "    \"CASH_OUT\": 4116,\n",
    "    \"TRANSFER\": 4097\n",
    "})\n",
    "\n",
    "# Plot pie chart\n",
    "plt.figure(figsize=(6, 6))\n",
    "plt.pie(\n",
    "    fraud_counts, \n",
    "    labels=fraud_counts.index, \n",
    "    autopct='%1.1f%%', \n",
    "    startangle=140\n",
    ")\n",
    "plt.title(\"Fraudulent Transactions by Type\")\n",
    "plt.axis('equal')  # Keep pie chart circular\n",
    "plt.show()"
   ]
  },
  {
   "cell_type": "code",
   "execution_count": null,
   "id": "016316a5",
   "metadata": {},
   "outputs": [
    {
     "name": "stdout",
     "output_type": "stream",
     "text": [
      "                  amount  oldbalanceOrg  newbalanceOrig  oldbalanceDest  \\\n",
      "amount          1.000000      -0.002762       -0.007861        0.294137   \n",
      "oldbalanceOrg  -0.002762       1.000000        0.998803        0.066243   \n",
      "newbalanceOrig -0.007861       0.998803        1.000000        0.067812   \n",
      "oldbalanceDest  0.294137       0.066243        0.067812        1.000000   \n",
      "newbalanceDest  0.459304       0.042029        0.041837        0.976569   \n",
      "\n",
      "                newbalanceDest  \n",
      "amount                0.459304  \n",
      "oldbalanceOrg         0.042029  \n",
      "newbalanceOrig        0.041837  \n",
      "oldbalanceDest        0.976569  \n",
      "newbalanceDest        1.000000  \n"
     ]
    },
    {
     "data": {
      "image/png": "[encoded data removed]",
      "text/plain": [
       "<Figure size 800x600 with 2 Axes>"
      ]
     },
     "metadata": {},
     "output_type": "display_data"
    }
   ],
   "source": [
    "num_var = ['amount', 'oldbalanceOrg', 'newbalanceOrig', 'oldbalanceDest', 'newbalanceDest']\n",
    "\n",
    "# Subset the DataFrame\n",
    "num_df = df[num_var]\n",
    "\n",
    "# Compute correlation matrix\n",
    "corr_matrix = num_df.corr()\n",
    "\n",
    "# Print correlation matrix\n",
    "print(corr_matrix)\n",
    "\n",
    "# Heatmap for visualization\n",
    "plt.figure(figsize=(8, 6))\n",
    "sns.heatmap(corr_matrix, annot=True, cmap='coolwarm', fmt='.2f')\n",
    "plt.title('Correlation Matrix for Selected Numerical Variables')\n",
    "plt.show()"
   ]
  },
  {
   "cell_type": "markdown",
   "id": "16587e8d",
   "metadata": {},
   "source": [
    "---------Something to take a look later at----------------"
   ]
  },
  {
   "cell_type": "code",
   "execution_count": null,
   "id": "10e3cc94",
   "metadata": {},
   "outputs": [
    {
     "name": "stdout",
     "output_type": "stream",
     "text": [
      " Total suspicious transactions: 8024\n",
      "Fraudulent suspicious transactions: 8024\n",
      "Legitimate suspicious transactions: 0\n"
     ]
    }
   ],
   "source": [
    "#Create a boolean mask for the suspicious pattern\n",
    "suspicious_mask = (df['oldbalanceOrg'] == df['amount']) & (df['newbalanceOrig'] == 0)\n",
    "\n",
    "# Filter transactions that match the pattern\n",
    "suspicious_transactions = df[suspicious_mask]\n",
    "\n",
    "# Split by fraud status\n",
    "suspicious_frauds = suspicious_transactions[suspicious_transactions['isFraud'] == 1]\n",
    "suspicious_legit = suspicious_transactions[suspicious_transactions['isFraud'] == 0]\n",
    "\n",
    "# Output summary\n",
    "print(f\" Total suspicious transactions: {len(suspicious_transactions)}\")\n",
    "print(f\"Fraudulent suspicious transactions: {len(suspicious_frauds)}\")\n",
    "print(f\"Legitimate suspicious transactions: {len(suspicious_legit)}\")"
   ]
  },
  {
   "cell_type": "code",
   "execution_count": null,
   "id": "4827b261",
   "metadata": {},
   "outputs": [
    {
     "name": "stdout",
     "output_type": "stream",
     "text": [
      "Account emptied after transaction:\n",
      "accountEmptied\n",
      "False    6354596\n",
      "True        8024\n",
      "Name: count, dtype: int64\n",
      "\n",
      "Sample emptied transactions:\n",
      "         type   amount  oldbalanceOrg  newbalanceOrig  isFraud\n",
      "2    TRANSFER    181.0          181.0             0.0        1\n",
      "3    CASH_OUT    181.0          181.0             0.0        1\n",
      "251  TRANSFER   2806.0         2806.0             0.0        1\n",
      "252  CASH_OUT   2806.0         2806.0             0.0        1\n",
      "680  TRANSFER  20128.0        20128.0             0.0        1\n"
     ]
    }
   ],
   "source": [
    "# Create a new column that flags if the account was emptied\n",
    "df['accountEmptied'] = (df['oldbalanceOrg'] == df['amount']) & (df['newbalanceOrig'] == 0)\n",
    "\n",
    "# View how many accounts were emptied\n",
    "emptied_summary = df['accountEmptied'].value_counts()\n",
    "\n",
    "# Optional: preview some examples\n",
    "emptied_examples = df[df['accountEmptied'] == True][['type', 'amount', 'oldbalanceOrg', 'newbalanceOrig', 'isFraud']]\n",
    "\n",
    "# Print results\n",
    "print(\"Account emptied after transaction:\")\n",
    "print(emptied_summary)\n",
    "print(\"\\nSample emptied transactions:\")\n",
    "print(emptied_examples.head())"
   ]
  },
  {
   "cell_type": "code",
   "execution_count": null,
   "id": "79e02aeb",
   "metadata": {},
   "outputs": [
    {
     "name": "stdout",
     "output_type": "stream",
     "text": [
      " Total transactions above 200k: 1673570\n"
     ]
    }
   ],
   "source": [
    "# Filter transactions where amount > 200k\n",
    "high_value_txns = df[df['amount'] > 200000]\n",
    "\n",
    "# Show how many and a preview\n",
    "print(f\" Total transactions above 200k: {len(high_value_txns)}\")"
   ]
  },
  {
   "cell_type": "code",
   "execution_count": null,
   "id": "45925a9b",
   "metadata": {},
   "outputs": [
    {
     "name": "stdout",
     "output_type": "stream",
     "text": [
      "Total transactions above 190k: 1771750\n"
     ]
    },
    {
     "data": {
      "text/html": [
       "<div>\n",
       "<style scoped>\n",
       "    .dataframe tbody tr th:only-of-type {\n",
       "        vertical-align: middle;\n",
       "    }\n",
       "\n",
       "    .dataframe tbody tr th {\n",
       "        vertical-align: top;\n",
       "    }\n",
       "\n",
       "    .dataframe thead th {\n",
       "        text-align: right;\n",
       "    }\n",
       "</style>\n",
       "<table border=\"1\" class=\"dataframe\">\n",
       "  <thead>\n",
       "    <tr style=\"text-align: right;\">\n",
       "      <th></th>\n",
       "      <th>step</th>\n",
       "      <th>type</th>\n",
       "      <th>amount</th>\n",
       "      <th>nameOrig</th>\n",
       "      <th>oldbalanceOrg</th>\n",
       "      <th>newbalanceOrig</th>\n",
       "      <th>nameDest</th>\n",
       "      <th>oldbalanceDest</th>\n",
       "      <th>newbalanceDest</th>\n",
       "      <th>isFraud</th>\n",
       "      <th>isFlaggedFraud</th>\n",
       "      <th>type_code</th>\n",
       "      <th>accountEmptied</th>\n",
       "    </tr>\n",
       "  </thead>\n",
       "  <tbody>\n",
       "    <tr>\n",
       "      <th>15</th>\n",
       "      <td>1</td>\n",
       "      <td>CASH_OUT</td>\n",
       "      <td>229133.94</td>\n",
       "      <td>C905080434</td>\n",
       "      <td>15325.00</td>\n",
       "      <td>0.0</td>\n",
       "      <td>C476402209</td>\n",
       "      <td>5083.00</td>\n",
       "      <td>51513.44</td>\n",
       "      <td>0</td>\n",
       "      <td>0</td>\n",
       "      <td>1</td>\n",
       "      <td>False</td>\n",
       "    </tr>\n",
       "    <tr>\n",
       "      <th>19</th>\n",
       "      <td>1</td>\n",
       "      <td>TRANSFER</td>\n",
       "      <td>215310.30</td>\n",
       "      <td>C1670993182</td>\n",
       "      <td>705.00</td>\n",
       "      <td>0.0</td>\n",
       "      <td>C1100439041</td>\n",
       "      <td>22425.00</td>\n",
       "      <td>0.00</td>\n",
       "      <td>0</td>\n",
       "      <td>0</td>\n",
       "      <td>4</td>\n",
       "      <td>False</td>\n",
       "    </tr>\n",
       "    <tr>\n",
       "      <th>24</th>\n",
       "      <td>1</td>\n",
       "      <td>TRANSFER</td>\n",
       "      <td>311685.89</td>\n",
       "      <td>C1984094095</td>\n",
       "      <td>10835.00</td>\n",
       "      <td>0.0</td>\n",
       "      <td>C932583850</td>\n",
       "      <td>6267.00</td>\n",
       "      <td>2719172.89</td>\n",
       "      <td>0</td>\n",
       "      <td>0</td>\n",
       "      <td>4</td>\n",
       "      <td>False</td>\n",
       "    </tr>\n",
       "    <tr>\n",
       "      <th>82</th>\n",
       "      <td>1</td>\n",
       "      <td>TRANSFER</td>\n",
       "      <td>224606.64</td>\n",
       "      <td>C873175411</td>\n",
       "      <td>0.00</td>\n",
       "      <td>0.0</td>\n",
       "      <td>C766572210</td>\n",
       "      <td>354678.92</td>\n",
       "      <td>0.00</td>\n",
       "      <td>0</td>\n",
       "      <td>0</td>\n",
       "      <td>4</td>\n",
       "      <td>False</td>\n",
       "    </tr>\n",
       "    <tr>\n",
       "      <th>84</th>\n",
       "      <td>1</td>\n",
       "      <td>TRANSFER</td>\n",
       "      <td>379856.23</td>\n",
       "      <td>C1449772539</td>\n",
       "      <td>0.00</td>\n",
       "      <td>0.0</td>\n",
       "      <td>C1590550415</td>\n",
       "      <td>900180.00</td>\n",
       "      <td>19169204.93</td>\n",
       "      <td>0</td>\n",
       "      <td>0</td>\n",
       "      <td>4</td>\n",
       "      <td>False</td>\n",
       "    </tr>\n",
       "    <tr>\n",
       "      <th>85</th>\n",
       "      <td>1</td>\n",
       "      <td>TRANSFER</td>\n",
       "      <td>1505626.01</td>\n",
       "      <td>C926859124</td>\n",
       "      <td>0.00</td>\n",
       "      <td>0.0</td>\n",
       "      <td>C665576141</td>\n",
       "      <td>29031.00</td>\n",
       "      <td>5515763.34</td>\n",
       "      <td>0</td>\n",
       "      <td>0</td>\n",
       "      <td>4</td>\n",
       "      <td>False</td>\n",
       "    </tr>\n",
       "    <tr>\n",
       "      <th>86</th>\n",
       "      <td>1</td>\n",
       "      <td>TRANSFER</td>\n",
       "      <td>554026.99</td>\n",
       "      <td>C1603696865</td>\n",
       "      <td>0.00</td>\n",
       "      <td>0.0</td>\n",
       "      <td>C766572210</td>\n",
       "      <td>579285.56</td>\n",
       "      <td>0.00</td>\n",
       "      <td>0</td>\n",
       "      <td>0</td>\n",
       "      <td>4</td>\n",
       "      <td>False</td>\n",
       "    </tr>\n",
       "    <tr>\n",
       "      <th>88</th>\n",
       "      <td>1</td>\n",
       "      <td>TRANSFER</td>\n",
       "      <td>761507.39</td>\n",
       "      <td>C412788346</td>\n",
       "      <td>0.00</td>\n",
       "      <td>0.0</td>\n",
       "      <td>C1590550415</td>\n",
       "      <td>1280036.23</td>\n",
       "      <td>19169204.93</td>\n",
       "      <td>0</td>\n",
       "      <td>0</td>\n",
       "      <td>4</td>\n",
       "      <td>False</td>\n",
       "    </tr>\n",
       "    <tr>\n",
       "      <th>89</th>\n",
       "      <td>1</td>\n",
       "      <td>TRANSFER</td>\n",
       "      <td>1429051.47</td>\n",
       "      <td>C1520267010</td>\n",
       "      <td>0.00</td>\n",
       "      <td>0.0</td>\n",
       "      <td>C1590550415</td>\n",
       "      <td>2041543.62</td>\n",
       "      <td>19169204.93</td>\n",
       "      <td>0</td>\n",
       "      <td>0</td>\n",
       "      <td>4</td>\n",
       "      <td>False</td>\n",
       "    </tr>\n",
       "    <tr>\n",
       "      <th>90</th>\n",
       "      <td>1</td>\n",
       "      <td>TRANSFER</td>\n",
       "      <td>358831.92</td>\n",
       "      <td>C908084672</td>\n",
       "      <td>0.00</td>\n",
       "      <td>0.0</td>\n",
       "      <td>C392292416</td>\n",
       "      <td>474384.53</td>\n",
       "      <td>3420103.09</td>\n",
       "      <td>0</td>\n",
       "      <td>0</td>\n",
       "      <td>4</td>\n",
       "      <td>False</td>\n",
       "    </tr>\n",
       "    <tr>\n",
       "      <th>91</th>\n",
       "      <td>1</td>\n",
       "      <td>TRANSFER</td>\n",
       "      <td>367768.40</td>\n",
       "      <td>C288306765</td>\n",
       "      <td>0.00</td>\n",
       "      <td>0.0</td>\n",
       "      <td>C1359044626</td>\n",
       "      <td>370763.10</td>\n",
       "      <td>16518.36</td>\n",
       "      <td>0</td>\n",
       "      <td>0</td>\n",
       "      <td>4</td>\n",
       "      <td>False</td>\n",
       "    </tr>\n",
       "    <tr>\n",
       "      <th>92</th>\n",
       "      <td>1</td>\n",
       "      <td>TRANSFER</td>\n",
       "      <td>209711.11</td>\n",
       "      <td>C1556867940</td>\n",
       "      <td>0.00</td>\n",
       "      <td>0.0</td>\n",
       "      <td>C1509514333</td>\n",
       "      <td>399214.71</td>\n",
       "      <td>2415.16</td>\n",
       "      <td>0</td>\n",
       "      <td>0</td>\n",
       "      <td>4</td>\n",
       "      <td>False</td>\n",
       "    </tr>\n",
       "    <tr>\n",
       "      <th>93</th>\n",
       "      <td>1</td>\n",
       "      <td>TRANSFER</td>\n",
       "      <td>583848.46</td>\n",
       "      <td>C1839168128</td>\n",
       "      <td>0.00</td>\n",
       "      <td>0.0</td>\n",
       "      <td>C1286084959</td>\n",
       "      <td>667778.00</td>\n",
       "      <td>2107778.11</td>\n",
       "      <td>0</td>\n",
       "      <td>0</td>\n",
       "      <td>4</td>\n",
       "      <td>False</td>\n",
       "    </tr>\n",
       "    <tr>\n",
       "      <th>94</th>\n",
       "      <td>1</td>\n",
       "      <td>TRANSFER</td>\n",
       "      <td>1724887.05</td>\n",
       "      <td>C1495608502</td>\n",
       "      <td>0.00</td>\n",
       "      <td>0.0</td>\n",
       "      <td>C1590550415</td>\n",
       "      <td>3470595.10</td>\n",
       "      <td>19169204.93</td>\n",
       "      <td>0</td>\n",
       "      <td>0</td>\n",
       "      <td>4</td>\n",
       "      <td>False</td>\n",
       "    </tr>\n",
       "    <tr>\n",
       "      <th>95</th>\n",
       "      <td>1</td>\n",
       "      <td>TRANSFER</td>\n",
       "      <td>710544.77</td>\n",
       "      <td>C835773569</td>\n",
       "      <td>0.00</td>\n",
       "      <td>0.0</td>\n",
       "      <td>C1359044626</td>\n",
       "      <td>738531.50</td>\n",
       "      <td>16518.36</td>\n",
       "      <td>0</td>\n",
       "      <td>0</td>\n",
       "      <td>4</td>\n",
       "      <td>False</td>\n",
       "    </tr>\n",
       "    <tr>\n",
       "      <th>96</th>\n",
       "      <td>1</td>\n",
       "      <td>TRANSFER</td>\n",
       "      <td>581294.26</td>\n",
       "      <td>C843299092</td>\n",
       "      <td>0.00</td>\n",
       "      <td>0.0</td>\n",
       "      <td>C1590550415</td>\n",
       "      <td>5195482.15</td>\n",
       "      <td>19169204.93</td>\n",
       "      <td>0</td>\n",
       "      <td>0</td>\n",
       "      <td>4</td>\n",
       "      <td>False</td>\n",
       "    </tr>\n",
       "    <tr>\n",
       "      <th>112</th>\n",
       "      <td>1</td>\n",
       "      <td>CASH_OUT</td>\n",
       "      <td>212228.35</td>\n",
       "      <td>C1896074070</td>\n",
       "      <td>0.00</td>\n",
       "      <td>0.0</td>\n",
       "      <td>C401424608</td>\n",
       "      <td>429747.00</td>\n",
       "      <td>1178808.14</td>\n",
       "      <td>0</td>\n",
       "      <td>0</td>\n",
       "      <td>1</td>\n",
       "      <td>False</td>\n",
       "    </tr>\n",
       "    <tr>\n",
       "      <th>117</th>\n",
       "      <td>1</td>\n",
       "      <td>CASH_OUT</td>\n",
       "      <td>419801.40</td>\n",
       "      <td>C1687354037</td>\n",
       "      <td>38197.63</td>\n",
       "      <td>0.0</td>\n",
       "      <td>C33524623</td>\n",
       "      <td>499962.00</td>\n",
       "      <td>1517262.16</td>\n",
       "      <td>0</td>\n",
       "      <td>0</td>\n",
       "      <td>1</td>\n",
       "      <td>False</td>\n",
       "    </tr>\n",
       "    <tr>\n",
       "      <th>118</th>\n",
       "      <td>1</td>\n",
       "      <td>CASH_OUT</td>\n",
       "      <td>335416.51</td>\n",
       "      <td>C743778731</td>\n",
       "      <td>144478.00</td>\n",
       "      <td>0.0</td>\n",
       "      <td>C575335780</td>\n",
       "      <td>295.00</td>\n",
       "      <td>52415.15</td>\n",
       "      <td>0</td>\n",
       "      <td>0</td>\n",
       "      <td>1</td>\n",
       "      <td>False</td>\n",
       "    </tr>\n",
       "    <tr>\n",
       "      <th>123</th>\n",
       "      <td>1</td>\n",
       "      <td>TRANSFER</td>\n",
       "      <td>330757.04</td>\n",
       "      <td>C1494346128</td>\n",
       "      <td>103657.00</td>\n",
       "      <td>0.0</td>\n",
       "      <td>C564160838</td>\n",
       "      <td>79676.00</td>\n",
       "      <td>1254956.07</td>\n",
       "      <td>0</td>\n",
       "      <td>0</td>\n",
       "      <td>4</td>\n",
       "      <td>False</td>\n",
       "    </tr>\n",
       "  </tbody>\n",
       "</table>\n",
       "</div>"
      ],
      "text/plain": [
       "     step      type      amount     nameOrig  oldbalanceOrg  newbalanceOrig  \\\n",
       "15      1  CASH_OUT   229133.94   C905080434       15325.00             0.0   \n",
       "19      1  TRANSFER   215310.30  C1670993182         705.00             0.0   \n",
       "24      1  TRANSFER   311685.89  C1984094095       10835.00             0.0   \n",
       "82      1  TRANSFER   224606.64   C873175411           0.00             0.0   \n",
       "84      1  TRANSFER   379856.23  C1449772539           0.00             0.0   \n",
       "85      1  TRANSFER  1505626.01   C926859124           0.00             0.0   \n",
       "86      1  TRANSFER   554026.99  C1603696865           0.00             0.0   \n",
       "88      1  TRANSFER   761507.39   C412788346           0.00             0.0   \n",
       "89      1  TRANSFER  1429051.47  C1520267010           0.00             0.0   \n",
       "90      1  TRANSFER   358831.92   C908084672           0.00             0.0   \n",
       "91      1  TRANSFER   367768.40   C288306765           0.00             0.0   \n",
       "92      1  TRANSFER   209711.11  C1556867940           0.00             0.0   \n",
       "93      1  TRANSFER   583848.46  C1839168128           0.00             0.0   \n",
       "94      1  TRANSFER  1724887.05  C1495608502           0.00             0.0   \n",
       "95      1  TRANSFER   710544.77   C835773569           0.00             0.0   \n",
       "96      1  TRANSFER   581294.26   C843299092           0.00             0.0   \n",
       "112     1  CASH_OUT   212228.35  C1896074070           0.00             0.0   \n",
       "117     1  CASH_OUT   419801.40  C1687354037       38197.63             0.0   \n",
       "118     1  CASH_OUT   335416.51   C743778731      144478.00             0.0   \n",
       "123     1  TRANSFER   330757.04  C1494346128      103657.00             0.0   \n",
       "\n",
       "        nameDest  oldbalanceDest  newbalanceDest  isFraud  isFlaggedFraud  \\\n",
       "15    C476402209         5083.00        51513.44        0               0   \n",
       "19   C1100439041        22425.00            0.00        0               0   \n",
       "24    C932583850         6267.00      2719172.89        0               0   \n",
       "82    C766572210       354678.92            0.00        0               0   \n",
       "84   C1590550415       900180.00     19169204.93        0               0   \n",
       "85    C665576141        29031.00      5515763.34        0               0   \n",
       "86    C766572210       579285.56            0.00        0               0   \n",
       "88   C1590550415      1280036.23     19169204.93        0               0   \n",
       "89   C1590550415      2041543.62     19169204.93        0               0   \n",
       "90    C392292416       474384.53      3420103.09        0               0   \n",
       "91   C1359044626       370763.10        16518.36        0               0   \n",
       "92   C1509514333       399214.71         2415.16        0               0   \n",
       "93   C1286084959       667778.00      2107778.11        0               0   \n",
       "94   C1590550415      3470595.10     19169204.93        0               0   \n",
       "95   C1359044626       738531.50        16518.36        0               0   \n",
       "96   C1590550415      5195482.15     19169204.93        0               0   \n",
       "112   C401424608       429747.00      1178808.14        0               0   \n",
       "117    C33524623       499962.00      1517262.16        0               0   \n",
       "118   C575335780          295.00        52415.15        0               0   \n",
       "123   C564160838        79676.00      1254956.07        0               0   \n",
       "\n",
       "     type_code  accountEmptied  \n",
       "15           1           False  \n",
       "19           4           False  \n",
       "24           4           False  \n",
       "82           4           False  \n",
       "84           4           False  \n",
       "85           4           False  \n",
       "86           4           False  \n",
       "88           4           False  \n",
       "89           4           False  \n",
       "90           4           False  \n",
       "91           4           False  \n",
       "92           4           False  \n",
       "93           4           False  \n",
       "94           4           False  \n",
       "95           4           False  \n",
       "96           4           False  \n",
       "112          1           False  \n",
       "117          1           False  \n",
       "118          1           False  \n",
       "123          4           False  "
      ]
     },
     "execution_count": 88,
     "metadata": {},
     "output_type": "execute_result"
    }
   ],
   "source": [
    "# Filter transactions where amount > 190,000\n",
    "high_value_txns = df[df['amount'] > 190000]\n",
    "\n",
    "# Show how many\n",
    "print(f\"Total transactions above 190k: {len(high_value_txns)}\")\n",
    "\n",
    "high_value_txns.head(20)"
   ]
  },
  {
   "cell_type": "code",
   "execution_count": null,
   "id": "c2a61af4",
   "metadata": {},
   "outputs": [
    {
     "name": "stdout",
     "output_type": "stream",
     "text": [
      "🔍 Account Emptied Status Counts:\n",
      "accountEmptied\n",
      "False    6354596\n",
      "True        8024\n",
      "Name: count, dtype: int64\n"
     ]
    }
   ],
   "source": [
    "# Count unique values in 'accountEmptied'\n",
    "account_emptied_counts = df['accountEmptied'].value_counts()\n",
    "\n",
    "# Print the result\n",
    "print(\"🔍 Account Emptied Status Counts:\")\n",
    "print(account_emptied_counts)\n"
   ]
  },
  {
   "cell_type": "markdown",
   "id": "eb4d8cb7",
   "metadata": {},
   "source": [
    "**Feature engineering**"
   ]
  },
  {
   "cell_type": "code",
   "execution_count": 149,
   "id": "c5bcf650",
   "metadata": {},
   "outputs": [
    {
     "data": {
      "text/html": [
       "<div>\n",
       "<style scoped>\n",
       "    .dataframe tbody tr th:only-of-type {\n",
       "        vertical-align: middle;\n",
       "    }\n",
       "\n",
       "    .dataframe tbody tr th {\n",
       "        vertical-align: top;\n",
       "    }\n",
       "\n",
       "    .dataframe thead th {\n",
       "        text-align: right;\n",
       "    }\n",
       "</style>\n",
       "<table border=\"1\" class=\"dataframe\">\n",
       "  <thead>\n",
       "    <tr style=\"text-align: right;\">\n",
       "      <th></th>\n",
       "      <th>step</th>\n",
       "      <th>day</th>\n",
       "    </tr>\n",
       "  </thead>\n",
       "  <tbody>\n",
       "    <tr>\n",
       "      <th>0</th>\n",
       "      <td>1</td>\n",
       "      <td>0</td>\n",
       "    </tr>\n",
       "    <tr>\n",
       "      <th>1</th>\n",
       "      <td>1</td>\n",
       "      <td>0</td>\n",
       "    </tr>\n",
       "    <tr>\n",
       "      <th>2</th>\n",
       "      <td>1</td>\n",
       "      <td>0</td>\n",
       "    </tr>\n",
       "    <tr>\n",
       "      <th>3</th>\n",
       "      <td>1</td>\n",
       "      <td>0</td>\n",
       "    </tr>\n",
       "    <tr>\n",
       "      <th>4</th>\n",
       "      <td>1</td>\n",
       "      <td>0</td>\n",
       "    </tr>\n",
       "    <tr>\n",
       "      <th>5</th>\n",
       "      <td>1</td>\n",
       "      <td>0</td>\n",
       "    </tr>\n",
       "    <tr>\n",
       "      <th>6</th>\n",
       "      <td>1</td>\n",
       "      <td>0</td>\n",
       "    </tr>\n",
       "    <tr>\n",
       "      <th>7</th>\n",
       "      <td>1</td>\n",
       "      <td>0</td>\n",
       "    </tr>\n",
       "    <tr>\n",
       "      <th>8</th>\n",
       "      <td>1</td>\n",
       "      <td>0</td>\n",
       "    </tr>\n",
       "    <tr>\n",
       "      <th>9</th>\n",
       "      <td>1</td>\n",
       "      <td>0</td>\n",
       "    </tr>\n",
       "  </tbody>\n",
       "</table>\n",
       "</div>"
      ],
      "text/plain": [
       "   step  day\n",
       "0     1    0\n",
       "1     1    0\n",
       "2     1    0\n",
       "3     1    0\n",
       "4     1    0\n",
       "5     1    0\n",
       "6     1    0\n",
       "7     1    0\n",
       "8     1    0\n",
       "9     1    0"
      ]
     },
     "execution_count": 149,
     "metadata": {},
     "output_type": "execute_result"
    }
   ],
   "source": [
    "# Time based features#\n",
    "\n",
    "# Assume each step = 1 hour\n",
    "df['day'] = df['step'] // 24 #gives the whole number of days since the start\n",
    "\n",
    "df[['step', 'day']].head(10)"
   ]
  },
  {
   "cell_type": "code",
   "execution_count": null,
   "id": "8b1fb951",
   "metadata": {},
   "outputs": [
    {
     "name": "stdout",
     "output_type": "stream",
     "text": [
      "       nameOrig     nameDest  txnCountOrig  txnCountDest\n",
      "0   C1231006815  M1979787155             1             1\n",
      "1   C1666544295  M2044282225             1             1\n",
      "2   C1305486145   C553264065             1            44\n",
      "3    C840083671    C38997010             1            41\n",
      "4   C2048537720  M1230701703             1             1\n",
      "5     C90045638   M573487274             1             1\n",
      "6    C154988899   M408069119             1             1\n",
      "7   C1912850431   M633326333             1             1\n",
      "8   C1265012928  M1176932104             1             1\n",
      "9    C712410124   C195600860             1            34\n",
      "10  C1900366749   C997608398             1            59\n",
      "11   C249177573  M2096539129             1             1\n",
      "12  C1648232591   M972865270             1             1\n",
      "13  C1716932897   M801569151             1             1\n",
      "14  C1026483832  M1635378213             1             1\n",
      "15   C905080434   C476402209             1            41\n",
      "16   C761750706  M1731217984             1             1\n",
      "17  C1237762639  M1877062907             1             1\n",
      "18  C2033524545   M473053293             1             1\n",
      "19  C1670993182  C1100439041             1            47\n"
     ]
    }
   ],
   "source": [
    "#frequent transfers#\n",
    "\n",
    "# counts how many total transactions the sender (nameOrig) has made in the entire dataset, the count is repeated for all rows associated with that sender\n",
    "df['txnCountOrig'] = df.groupby('nameOrig')['nameOrig'].transform('count') # how active a sender is. Fraudsters often act fast in a small number of transactions.\n",
    "\n",
    "# how many times each destination account (nameDest) receives money\n",
    "df['txnCountDest'] = df.groupby('nameDest')['nameDest'].transform('count') # tells you how many times an account is receiving funds — some mule accounts collect from many compromised senders.\n",
    "\n",
    "print(df[['nameOrig', 'nameDest', 'txnCountOrig', 'txnCountDest']].head(20)) # show origin and destination transaction counts"
   ]
  },
  {
   "cell_type": "code",
   "execution_count": null,
   "id": "d8ce20e4",
   "metadata": {},
   "outputs": [
    {
     "data": {
      "text/plain": [
       "txnCountOrig\n",
       "1    6344009\n",
       "2      18566\n",
       "3         45\n",
       "Name: count, dtype: int64"
      ]
     },
     "execution_count": 97,
     "metadata": {},
     "output_type": "execute_result"
    }
   ],
   "source": [
    "df['txnCountOrig'].value_counts().sort_index()\n",
    "# summarize how many accounts have how many transactions"
   ]
  },
  {
   "cell_type": "markdown",
   "id": "f35dccbf",
   "metadata": {},
   "source": [
    "------- end ---------"
   ]
  },
  {
   "cell_type": "markdown",
   "id": "503ee858",
   "metadata": {},
   "source": [
    "<h3 style=>-- For Model Building --</h3>"
   ]
  },
  {
   "cell_type": "markdown",
   "id": "c8f897d7",
   "metadata": {},
   "source": [
    "Encode variables"
   ]
  },
  {
   "cell_type": "code",
   "execution_count": 27,
   "id": "d64ec592",
   "metadata": {},
   "outputs": [],
   "source": [
    "df = pd.get_dummies(df, columns=['type'], drop_first=True)"
   ]
  },
  {
   "cell_type": "markdown",
   "id": "a9726643",
   "metadata": {},
   "source": [
    "Drop irrelevant columns"
   ]
  },
  {
   "cell_type": "code",
   "execution_count": 28,
   "id": "e0fb9741",
   "metadata": {},
   "outputs": [],
   "source": [
    "df = df.drop(['nameOrig', 'nameDest'], axis=1)"
   ]
  },
  {
   "cell_type": "markdown",
   "id": "6752f067",
   "metadata": {},
   "source": [
    "Save to CSV"
   ]
  },
  {
   "cell_type": "code",
   "execution_count": 30,
   "id": "0cd5579d",
   "metadata": {},
   "outputs": [],
   "source": [
    "df.to_csv(\"cleaned_fraud_dataset.csv\", index=False)"
   ]
  },
  {
   "cell_type": "markdown",
   "id": "32dac358",
   "metadata": {},
   "source": [
    "Models are trained in different notebook"
   ]
  }
 ],
 "metadata": {
  "kernelspec": {
   "display_name": "myenv",
   "language": "python",
   "name": "python3"
  },
  "language_info": {
   "codemirror_mode": {
    "name": "ipython",
    "version": 3
   },
   "file_extension": ".py",
   "mimetype": "text/x-python",
   "name": "python",
   "nbconvert_exporter": "python",
   "pygments_lexer": "ipython3",
   "version": "3.10.18"
  }
 },
 "nbformat": 4,
 "nbformat_minor": 5
}
